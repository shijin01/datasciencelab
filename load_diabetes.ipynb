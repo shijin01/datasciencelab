{
 "cells": [
  {
   "cell_type": "code",
   "execution_count": 1,
   "id": "04e35d17",
   "metadata": {},
   "outputs": [],
   "source": [
    "from sklearn import *\n",
    "import pandas as pd\n",
    "import numpy as np"
   ]
  },
  {
   "cell_type": "code",
   "execution_count": 9,
   "id": "c8bc430a",
   "metadata": {},
   "outputs": [],
   "source": [
    "diabetes=datasets.load_diabetes()"
   ]
  },
  {
   "cell_type": "code",
   "execution_count": 10,
   "id": "fd65708e",
   "metadata": {},
   "outputs": [],
   "source": [
    "x=diabetes.data\n",
    "y=diabetes.target"
   ]
  },
  {
   "cell_type": "code",
   "execution_count": null,
   "id": "81e037a9",
   "metadata": {},
   "outputs": [],
   "source": []
  },
  {
   "cell_type": "code",
   "execution_count": 40,
   "id": "3601aca6",
   "metadata": {},
   "outputs": [],
   "source": [
    "xtrain,xtest,ytrain,ytest=model_selection.train_test_split(x,y,random_state=42,train_size=.7)"
   ]
  },
  {
   "cell_type": "code",
   "execution_count": 41,
   "id": "060b907a",
   "metadata": {},
   "outputs": [],
   "source": [
    "neigh=neighbors.KNeighborsClassifier(n_neighbors=3,metric=\"euclidean\")"
   ]
  },
  {
   "cell_type": "code",
   "execution_count": 42,
   "id": "114b43ce",
   "metadata": {},
   "outputs": [
    {
     "data": {
      "text/plain": [
       "KNeighborsClassifier(metric='euclidean', n_neighbors=3)"
      ]
     },
     "execution_count": 42,
     "metadata": {},
     "output_type": "execute_result"
    }
   ],
   "source": [
    "neigh.fit(xtrain,ytrain)"
   ]
  },
  {
   "cell_type": "code",
   "execution_count": 43,
   "id": "b43bb717",
   "metadata": {},
   "outputs": [],
   "source": [
    "ypredict=neigh.predict(xtest)"
   ]
  },
  {
   "cell_type": "code",
   "execution_count": 44,
   "id": "31bf2c00",
   "metadata": {},
   "outputs": [
    {
     "data": {
      "text/plain": [
       "0.007518796992481203"
      ]
     },
     "execution_count": 44,
     "metadata": {},
     "output_type": "execute_result"
    }
   ],
   "source": [
    "metrics.accuracy_score(ytest,ypredict)"
   ]
  },
  {
   "cell_type": "code",
   "execution_count": 45,
   "id": "9f9933ef",
   "metadata": {},
   "outputs": [
    {
     "data": {
      "text/plain": [
       "array([ 67., 141.,  69., 220.,  51.,  95., 178., 139.,  74.,  53.,  59.,\n",
       "       131.,  85., 129.,  39.,  44., 180., 180., 151., 163.,  78.,  59.,\n",
       "        59., 150., 103., 127., 127.,  91.,  59.,  51.,  91.,  69.,  51.,\n",
       "       129., 115., 178.,  53.,  51.,  81.,  75.,  49.,  66.,  47.,  89.,\n",
       "       154.,  60.,  55.,  64.,  59.,  93.,  85.,  69.,  55.,  49., 138.,\n",
       "       141.,  49., 127., 115.,  64.,  67.,  78.,  49.,  65.,  93.,  67.,\n",
       "       163.,  91., 142.,  58.,  58., 122., 155.,  58.,  65., 138., 139.,\n",
       "       147., 177., 151., 113.,  25.,  51.,  60.,  49.,  84., 114.,  42.,\n",
       "       142., 138., 111., 195.,  72.,  53.,  65.,  66., 123.,  78.,  51.,\n",
       "        49.,  91.,  55., 258.,  71.,  97., 134.,  47.,  91.,  67., 155.,\n",
       "        51.,  48.,  66., 150., 111., 151.,  64.,  49.,  85.,  78.,  25.,\n",
       "        96.,  47., 185.,  44.,  66.,  91.,  71.,  91.,  85.,  80.,  64.,\n",
       "       150.])"
      ]
     },
     "execution_count": 45,
     "metadata": {},
     "output_type": "execute_result"
    }
   ],
   "source": [
    "ypredict"
   ]
  },
  {
   "cell_type": "code",
   "execution_count": 46,
   "id": "e6531f07",
   "metadata": {},
   "outputs": [
    {
     "data": {
      "text/plain": [
       "array([219.,  70., 202., 230., 111.,  84., 242., 272.,  94.,  96.,  94.,\n",
       "       252.,  99., 297., 135.,  67., 295., 264., 170., 275., 310.,  64.,\n",
       "       128., 232., 129., 118., 263.,  77.,  48., 107., 140., 113.,  90.,\n",
       "       164., 180., 233.,  42.,  84., 172.,  63.,  48., 108., 156., 168.,\n",
       "        90.,  52., 200.,  87.,  90., 258., 136., 158.,  69.,  72., 171.,\n",
       "        95.,  72., 151., 168.,  60., 122.,  52., 187., 102., 214., 248.,\n",
       "       181., 110., 140., 202., 101., 222., 281.,  61.,  89.,  91., 186.,\n",
       "       220., 237., 233.,  68., 190.,  96.,  72., 153.,  98.,  37.,  63.,\n",
       "       184., 144., 150., 280., 125.,  59.,  65., 281., 277., 167.,  90.,\n",
       "        72., 178.,  88., 270., 101., 197.,  97.,  53.,  71., 262.,  52.,\n",
       "       102., 166., 189., 173., 220., 206.,  97.,  60.,  61., 242., 121.,\n",
       "       128., 104., 265., 132., 283., 174., 129., 257., 137.,  63.,  93.,\n",
       "       232.])"
      ]
     },
     "execution_count": 46,
     "metadata": {},
     "output_type": "execute_result"
    }
   ],
   "source": [
    "ytest"
   ]
  },
  {
   "cell_type": "code",
   "execution_count": null,
   "id": "85002856",
   "metadata": {},
   "outputs": [],
   "source": []
  },
  {
   "cell_type": "code",
   "execution_count": null,
   "id": "494ad3d6",
   "metadata": {},
   "outputs": [],
   "source": []
  }
 ],
 "metadata": {
  "kernelspec": {
   "display_name": "Python 3",
   "language": "python",
   "name": "python3"
  },
  "language_info": {
   "codemirror_mode": {
    "name": "ipython",
    "version": 3
   },
   "file_extension": ".py",
   "mimetype": "text/x-python",
   "name": "python",
   "nbconvert_exporter": "python",
   "pygments_lexer": "ipython3",
   "version": "3.8.8"
  }
 },
 "nbformat": 4,
 "nbformat_minor": 5
}
