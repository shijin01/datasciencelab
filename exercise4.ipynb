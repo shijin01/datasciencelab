{
 "cells": [
  {
   "cell_type": "code",
   "execution_count": 53,
   "id": "240e5125",
   "metadata": {},
   "outputs": [],
   "source": [
    "import pandas as pd\n",
    "import numpy as np"
   ]
  },
  {
   "cell_type": "code",
   "execution_count": 5,
   "id": "3f3dd6e6",
   "metadata": {},
   "outputs": [
    {
     "name": "stdout",
     "output_type": "stream",
     "text": [
      "0     67\n",
      "1    264\n",
      "2    765\n",
      "3     89\n",
      "4     34\n",
      "5     56\n",
      "6     22\n",
      "dtype: int64\n"
     ]
    }
   ],
   "source": [
    "l1=[67,264,765,89,34,56,22]\n",
    "s=pd.Series(l1)\n",
    "print(s)"
   ]
  },
  {
   "cell_type": "code",
   "execution_count": 11,
   "id": "a70ee88c",
   "metadata": {},
   "outputs": [
    {
     "name": "stdout",
     "output_type": "stream",
     "text": [
      "0    2021-05-01\n",
      "1    2021-05-02\n",
      "2    2021-05-03\n",
      "3    2021-05-04\n",
      "4    2021-05-05\n",
      "        ...    \n",
      "57   2021-06-27\n",
      "58   2021-06-28\n",
      "59   2021-06-29\n",
      "60   2021-06-30\n",
      "61   2021-07-01\n",
      "Length: 62, dtype: datetime64[ns]\n"
     ]
    }
   ],
   "source": [
    "l=pd.date_range(\"05-01-2021\",\"07-01-2021\")\n",
    "s=pd.Series(l)\n",
    "print(s)"
   ]
  },
  {
   "cell_type": "code",
   "execution_count": 16,
   "id": "bdeaa3b7",
   "metadata": {},
   "outputs": [
    {
     "name": "stdout",
     "output_type": "stream",
     "text": [
      "   Apple  Bat  Cat  Dog\n",
      "0      3    8    5    9\n",
      "1      4    9    8    7\n",
      "2     56    5    9    5\n",
      "3      7    6    6    3\n"
     ]
    }
   ],
   "source": [
    "d1={\"Apple\":[3,4,56,7],\"Bat\":[8,9,5,6],\"Cat\":[5,8,9,6],\"Dog\":[9,7,5,3]}\n",
    "d=pd.DataFrame(d1)\n",
    "print(d)"
   ]
  },
  {
   "cell_type": "code",
   "execution_count": 18,
   "id": "aff98a96",
   "metadata": {},
   "outputs": [
    {
     "name": "stdout",
     "output_type": "stream",
     "text": [
      "   0   1  2  3  4\n",
      "0  4   5  6  7  8\n",
      "1  5  98  4  2  5\n"
     ]
    }
   ],
   "source": [
    "l1=[[4,5,6,7,8],[5,98,4,2,5]]\n",
    "d=pd.DataFrame(l1)\n",
    "print(d)"
   ]
  },
  {
   "cell_type": "code",
   "execution_count": 21,
   "id": "26e18906",
   "metadata": {},
   "outputs": [
    {
     "name": "stdout",
     "output_type": "stream",
     "text": [
      "        State            Capital\n",
      "0      Kerala  Thiruvanathapuram\n",
      "1  Maharastra             Mumbai\n",
      "2   Tamilnadu            Chennai\n",
      "3   Karnataka          Bengaluru\n",
      "4         Goa             Panaji\n"
     ]
    }
   ],
   "source": [
    "rcsv=pd.read_csv(\"data.csv\")\n",
    "df=pd.DataFrame(rcsv)\n",
    "print(df)"
   ]
  },
  {
   "cell_type": "code",
   "execution_count": 33,
   "id": "f07a7be5",
   "metadata": {},
   "outputs": [
    {
     "name": "stdout",
     "output_type": "stream",
     "text": [
      "   0   1    2  3  4\n",
      "0  4   5    6  7  8\n",
      "1  5  98    4  2  5\n",
      "2  3  56  678  9  4\n",
      "\n",
      "   0   1    2  3  4\n",
      "2  3  56  678  9  4\n",
      "0  4   5    6  7  8\n",
      "1  5  98    4  2  5\n",
      "\n",
      "   0   1    2  3  4\n",
      "0  4   5    6  7  8\n",
      "2  3  56  678  9  4\n",
      "1  5  98    4  2  5\n",
      "\n",
      "   0   1    2  3  4\n",
      "1  5  98    4  2  5\n",
      "0  4   5    6  7  8\n",
      "2  3  56  678  9  4\n",
      "\n",
      "   0   1    2  3  4\n",
      "1  5  98    4  2  5\n",
      "0  4   5    6  7  8\n",
      "2  3  56  678  9  4\n",
      "\n",
      "   0   1    2  3  4\n",
      "2  3  56  678  9  4\n",
      "1  5  98    4  2  5\n",
      "0  4   5    6  7  8\n"
     ]
    }
   ],
   "source": [
    "l1=[[4,5,6,7,8],[5,98,4,2,5],[3,56,678,9,4]]\n",
    "d=pd.DataFrame(l1)\n",
    "print(d)\n",
    "print()\n",
    "print(d.sort_values(0))\n",
    "print()\n",
    "print(d.sort_values(1))\n",
    "print()\n",
    "print(d.sort_values(2))\n",
    "print()\n",
    "print(d.sort_values(3))\n",
    "print()\n",
    "print(d.sort_values(4))"
   ]
  },
  {
   "cell_type": "code",
   "execution_count": 39,
   "id": "44b193d1",
   "metadata": {},
   "outputs": [
    {
     "name": "stdout",
     "output_type": "stream",
     "text": [
      "   Apple  Bat  Cat  Dog\n",
      "a      3    8    5    9\n",
      "b      4    9    8    7\n",
      "c     56    5    9    5\n",
      "d      7    6    6    3\n",
      "\n",
      "  index  Apple  Bat  Cat  Dog\n",
      "0     a      3    8    5    9\n",
      "1     b      4    9    8    7\n",
      "2     c     56    5    9    5\n",
      "3     d      7    6    6    3\n"
     ]
    }
   ],
   "source": [
    "d1={\"Apple\":[3,4,56,7],\"Bat\":[8,9,5,6],\"Cat\":[5,8,9,6],\"Dog\":[9,7,5,3]}\n",
    "d=pd.DataFrame(d1,index=['a','b','c','d'])\n",
    "print(d)\n",
    "print()\n",
    "d=d.reset_index()\n",
    "print(d)"
   ]
  },
  {
   "cell_type": "code",
   "execution_count": 48,
   "id": "3d41262c",
   "metadata": {},
   "outputs": [
    {
     "name": "stdout",
     "output_type": "stream",
     "text": [
      "   Apple  Bat  Cat  Dog\n",
      "0      3    8    5    9\n",
      "1      4    9    8    7\n"
     ]
    }
   ],
   "source": [
    "d1={\"Apple\":[3,4,56,7],\"Bat\":[8,9,5,6],\"Cat\":[5,8,9,6],\"Dog\":[9,7,5,3]}\n",
    "d=pd.DataFrame(d1)\n",
    "print(d[:2])"
   ]
  },
  {
   "cell_type": "code",
   "execution_count": 68,
   "id": "8dfb7ef0",
   "metadata": {},
   "outputs": [
    {
     "name": "stdout",
     "output_type": "stream",
     "text": [
      "Occupation\n",
      "Analyst      57500\n",
      "Developer    47500\n",
      "Name: Salary, dtype: int64\n"
     ]
    },
    {
     "data": {
      "text/html": [
       "<div>\n",
       "<style scoped>\n",
       "    .dataframe tbody tr th:only-of-type {\n",
       "        vertical-align: middle;\n",
       "    }\n",
       "\n",
       "    .dataframe tbody tr th {\n",
       "        vertical-align: top;\n",
       "    }\n",
       "\n",
       "    .dataframe thead th {\n",
       "        text-align: right;\n",
       "    }\n",
       "</style>\n",
       "<table border=\"1\" class=\"dataframe\">\n",
       "  <thead>\n",
       "    <tr style=\"text-align: right;\">\n",
       "      <th></th>\n",
       "      <th>Name</th>\n",
       "      <th>Occupation</th>\n",
       "      <th>Salary</th>\n",
       "    </tr>\n",
       "  </thead>\n",
       "  <tbody>\n",
       "    <tr>\n",
       "      <th>0</th>\n",
       "      <td>Stephen</td>\n",
       "      <td>Developer</td>\n",
       "      <td>50000</td>\n",
       "    </tr>\n",
       "    <tr>\n",
       "      <th>1</th>\n",
       "      <td>Ram</td>\n",
       "      <td>Analyst</td>\n",
       "      <td>80000</td>\n",
       "    </tr>\n",
       "    <tr>\n",
       "      <th>2</th>\n",
       "      <td>Robert</td>\n",
       "      <td>Developer</td>\n",
       "      <td>45000</td>\n",
       "    </tr>\n",
       "    <tr>\n",
       "      <th>3</th>\n",
       "      <td>Sam</td>\n",
       "      <td>Analyst</td>\n",
       "      <td>35000</td>\n",
       "    </tr>\n",
       "  </tbody>\n",
       "</table>\n",
       "</div>"
      ],
      "text/plain": [
       "      Name Occupation  Salary\n",
       "0  Stephen  Developer   50000\n",
       "1      Ram    Analyst   80000\n",
       "2   Robert  Developer   45000\n",
       "3      Sam    Analyst   35000"
      ]
     },
     "execution_count": 68,
     "metadata": {},
     "output_type": "execute_result"
    }
   ],
   "source": [
    "d1={\"Name\":[\"Stephen\",\"Ram\",\"Robert\",\"Sam\"],\"Occupation\":[\"Developer\",\"Analyst\",\"Developer\",\"Analyst\"],\"Salary\":[50000,80000,45000,35000]}\n",
    "d=pd.DataFrame(d1)\n",
    "print(d.groupby(\"Occupation\")[\"Salary\"].mean())\n",
    "d"
   ]
  },
  {
   "cell_type": "code",
   "execution_count": 72,
   "id": "69d19fc7",
   "metadata": {},
   "outputs": [
    {
     "name": "stdout",
     "output_type": "stream",
     "text": [
      "      Name Occupation   Salary\n",
      "0  Stephen  Developer  50000.0\n",
      "1      Ram    Analyst  80000.0\n",
      "2   Robert  Developer      NaN\n",
      "3      Sam    Analyst  35000.0\n"
     ]
    },
    {
     "data": {
      "text/html": [
       "<div>\n",
       "<style scoped>\n",
       "    .dataframe tbody tr th:only-of-type {\n",
       "        vertical-align: middle;\n",
       "    }\n",
       "\n",
       "    .dataframe tbody tr th {\n",
       "        vertical-align: top;\n",
       "    }\n",
       "\n",
       "    .dataframe thead th {\n",
       "        text-align: right;\n",
       "    }\n",
       "</style>\n",
       "<table border=\"1\" class=\"dataframe\">\n",
       "  <thead>\n",
       "    <tr style=\"text-align: right;\">\n",
       "      <th></th>\n",
       "      <th>Name</th>\n",
       "      <th>Occupation</th>\n",
       "      <th>Salary</th>\n",
       "    </tr>\n",
       "  </thead>\n",
       "  <tbody>\n",
       "    <tr>\n",
       "      <th>0</th>\n",
       "      <td>Stephen</td>\n",
       "      <td>Developer</td>\n",
       "      <td>50000.0</td>\n",
       "    </tr>\n",
       "    <tr>\n",
       "      <th>1</th>\n",
       "      <td>Ram</td>\n",
       "      <td>Analyst</td>\n",
       "      <td>80000.0</td>\n",
       "    </tr>\n",
       "    <tr>\n",
       "      <th>2</th>\n",
       "      <td>Robert</td>\n",
       "      <td>Developer</td>\n",
       "      <td>0.0</td>\n",
       "    </tr>\n",
       "    <tr>\n",
       "      <th>3</th>\n",
       "      <td>Sam</td>\n",
       "      <td>Analyst</td>\n",
       "      <td>35000.0</td>\n",
       "    </tr>\n",
       "  </tbody>\n",
       "</table>\n",
       "</div>"
      ],
      "text/plain": [
       "      Name Occupation   Salary\n",
       "0  Stephen  Developer  50000.0\n",
       "1      Ram    Analyst  80000.0\n",
       "2   Robert  Developer      0.0\n",
       "3      Sam    Analyst  35000.0"
      ]
     },
     "execution_count": 72,
     "metadata": {},
     "output_type": "execute_result"
    }
   ],
   "source": [
    "d[\"Salary\"]=d['Salary'].replace([45000], np.NaN)\n",
    "print(d)\n",
    "d.fillna(0)"
   ]
  },
  {
   "cell_type": "code",
   "execution_count": 76,
   "id": "fec35ef9",
   "metadata": {},
   "outputs": [
    {
     "data": {
      "text/html": [
       "<div>\n",
       "<style scoped>\n",
       "    .dataframe tbody tr th:only-of-type {\n",
       "        vertical-align: middle;\n",
       "    }\n",
       "\n",
       "    .dataframe tbody tr th {\n",
       "        vertical-align: top;\n",
       "    }\n",
       "\n",
       "    .dataframe thead th {\n",
       "        text-align: right;\n",
       "    }\n",
       "</style>\n",
       "<table border=\"1\" class=\"dataframe\">\n",
       "  <thead>\n",
       "    <tr style=\"text-align: right;\">\n",
       "      <th></th>\n",
       "      <th>cname</th>\n",
       "      <th>Profit</th>\n",
       "    </tr>\n",
       "  </thead>\n",
       "  <tbody>\n",
       "    <tr>\n",
       "      <th>0</th>\n",
       "      <td>IBM</td>\n",
       "      <td>False</td>\n",
       "    </tr>\n",
       "    <tr>\n",
       "      <th>1</th>\n",
       "      <td>Google</td>\n",
       "      <td>True</td>\n",
       "    </tr>\n",
       "    <tr>\n",
       "      <th>2</th>\n",
       "      <td>Microsoft</td>\n",
       "      <td>True</td>\n",
       "    </tr>\n",
       "  </tbody>\n",
       "</table>\n",
       "</div>"
      ],
      "text/plain": [
       "       cname  Profit\n",
       "0        IBM   False\n",
       "1     Google    True\n",
       "2  Microsoft    True"
      ]
     },
     "execution_count": 76,
     "metadata": {},
     "output_type": "execute_result"
    }
   ],
   "source": [
    "d={\"cname\":[\"IBM\",\"Google\",\"Microsoft\"],\n",
    "  \"Profit\":[-10000000,100000,120000]}\n",
    "df=pd.DataFrame(d)\n",
    "df[\"Profit\"]=df[\"Profit\"]>0\n",
    "df"
   ]
  },
  {
   "cell_type": "code",
   "execution_count": 77,
   "id": "978c5857",
   "metadata": {},
   "outputs": [
    {
     "data": {
      "text/html": [
       "<div>\n",
       "<style scoped>\n",
       "    .dataframe tbody tr th:only-of-type {\n",
       "        vertical-align: middle;\n",
       "    }\n",
       "\n",
       "    .dataframe tbody tr th {\n",
       "        vertical-align: top;\n",
       "    }\n",
       "\n",
       "    .dataframe thead th {\n",
       "        text-align: right;\n",
       "    }\n",
       "</style>\n",
       "<table border=\"1\" class=\"dataframe\">\n",
       "  <thead>\n",
       "    <tr style=\"text-align: right;\">\n",
       "      <th></th>\n",
       "      <th>eid</th>\n",
       "      <th>ename</th>\n",
       "      <th>Stepend</th>\n",
       "      <th>designation</th>\n",
       "    </tr>\n",
       "  </thead>\n",
       "  <tbody>\n",
       "    <tr>\n",
       "      <th>0</th>\n",
       "      <td>101</td>\n",
       "      <td>abu</td>\n",
       "      <td>100</td>\n",
       "      <td>clerk</td>\n",
       "    </tr>\n",
       "    <tr>\n",
       "      <th>1</th>\n",
       "      <td>102</td>\n",
       "      <td>abdu</td>\n",
       "      <td>200</td>\n",
       "      <td>teacher</td>\n",
       "    </tr>\n",
       "    <tr>\n",
       "      <th>2</th>\n",
       "      <td>103</td>\n",
       "      <td>stephen</td>\n",
       "      <td>300</td>\n",
       "      <td>student</td>\n",
       "    </tr>\n",
       "  </tbody>\n",
       "</table>\n",
       "</div>"
      ],
      "text/plain": [
       "   eid    ename  Stepend designation\n",
       "0  101      abu      100       clerk\n",
       "1  102     abdu      200     teacher\n",
       "2  103  stephen      300     student"
      ]
     },
     "execution_count": 77,
     "metadata": {},
     "output_type": "execute_result"
    }
   ],
   "source": [
    "mdict1={\"eid\":[101,102,103],\"ename\":[\"abu\",\"abdu\",\"stephen\"],\"Stepend\":[100,200,300]}\n",
    "mdict2={\"eid\":[101,102,103],\"designation\":[\"clerk\",\"teacher\",\"student\"]}\n",
    "df1=pd.DataFrame(mdict1)\n",
    "df2=pd.DataFrame(mdict2)\n",
    "pd.merge(df1,df2,how=\"inner\")"
   ]
  },
  {
   "cell_type": "code",
   "execution_count": null,
   "id": "2c60fab7",
   "metadata": {},
   "outputs": [],
   "source": []
  },
  {
   "cell_type": "code",
   "execution_count": 6,
   "id": "734db53c",
   "metadata": {},
   "outputs": [
    {
     "name": "stdout",
     "output_type": "stream",
     "text": [
      "['BooleanDtype', 'Categorical', 'CategoricalDtype', 'CategoricalIndex', 'DataFrame', 'DateOffset', 'DatetimeIndex', 'DatetimeTZDtype', 'ExcelFile', 'ExcelWriter', 'Flags', 'Float32Dtype', 'Float64Dtype', 'Float64Index', 'Grouper', 'HDFStore', 'Index', 'IndexSlice', 'Int16Dtype', 'Int32Dtype', 'Int64Dtype', 'Int64Index', 'Int8Dtype', 'Interval', 'IntervalDtype', 'IntervalIndex', 'MultiIndex', 'NA', 'NaT', 'NamedAgg', 'Period', 'PeriodDtype', 'PeriodIndex', 'RangeIndex', 'Series', 'SparseDtype', 'StringDtype', 'Timedelta', 'TimedeltaIndex', 'Timestamp', 'UInt16Dtype', 'UInt32Dtype', 'UInt64Dtype', 'UInt64Index', 'UInt8Dtype', '__builtins__', '__cached__', '__doc__', '__docformat__', '__file__', '__getattr__', '__git_version__', '__loader__', '__name__', '__package__', '__path__', '__spec__', '__version__', '_config', '_hashtable', '_is_numpy_dev', '_lib', '_libs', '_np_version_under1p17', '_np_version_under1p18', '_testing', '_tslib', '_typing', '_version', 'api', 'array', 'arrays', 'bdate_range', 'compat', 'concat', 'core', 'crosstab', 'cut', 'date_range', 'describe_option', 'errors', 'eval', 'factorize', 'get_dummies', 'get_option', 'infer_freq', 'interval_range', 'io', 'isna', 'isnull', 'json_normalize', 'lreshape', 'melt', 'merge', 'merge_asof', 'merge_ordered', 'notna', 'notnull', 'offsets', 'option_context', 'options', 'pandas', 'period_range', 'pivot', 'pivot_table', 'plotting', 'qcut', 'read_clipboard', 'read_csv', 'read_excel', 'read_feather', 'read_fwf', 'read_gbq', 'read_hdf', 'read_html', 'read_json', 'read_orc', 'read_parquet', 'read_pickle', 'read_sas', 'read_spss', 'read_sql', 'read_sql_query', 'read_sql_table', 'read_stata', 'read_table', 'reset_option', 'set_eng_float_format', 'set_option', 'show_versions', 'test', 'testing', 'timedelta_range', 'to_datetime', 'to_numeric', 'to_pickle', 'to_timedelta', 'tseries', 'unique', 'util', 'value_counts', 'wide_to_long']\n"
     ]
    }
   ],
   "source": [
    "print(dir(pd))"
   ]
  },
  {
   "cell_type": "code",
   "execution_count": null,
   "id": "665dc567",
   "metadata": {},
   "outputs": [],
   "source": []
  }
 ],
 "metadata": {
  "kernelspec": {
   "display_name": "Python 3",
   "language": "python",
   "name": "python3"
  },
  "language_info": {
   "codemirror_mode": {
    "name": "ipython",
    "version": 3
   },
   "file_extension": ".py",
   "mimetype": "text/x-python",
   "name": "python",
   "nbconvert_exporter": "python",
   "pygments_lexer": "ipython3",
   "version": "3.8.8"
  }
 },
 "nbformat": 4,
 "nbformat_minor": 5
}
