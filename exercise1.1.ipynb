{
 "cells": [
  {
   "cell_type": "code",
   "execution_count": 1,
   "id": "89797994",
   "metadata": {},
   "outputs": [],
   "source": [
    "import numpy as np"
   ]
  },
  {
   "cell_type": "code",
   "execution_count": 19,
   "id": "6fe3d541",
   "metadata": {},
   "outputs": [
    {
     "name": "stdout",
     "output_type": "stream",
     "text": [
      "[ True False  True False]\n",
      "[ True False  True  True]\n",
      "[False  True False False]\n",
      "[False  True False  True]\n"
     ]
    }
   ],
   "source": [
    "x=np.array([9,5,14,5])\n",
    "y=np.array([2,9,7,5])\n",
    "print(np.greater(x,y))\n",
    "print(np.greater_equal(x,y))\n",
    "print(np.less(x,y))\n",
    "print(np.less_equal(x,y))"
   ]
  },
  {
   "cell_type": "code",
   "execution_count": 20,
   "id": "38a13ad4",
   "metadata": {},
   "outputs": [
    {
     "name": "stdout",
     "output_type": "stream",
     "text": [
      "[30 32 34 36 38 40 42 44 46 48 50 52 54 56 58 60 62 64 66 68]\n"
     ]
    }
   ],
   "source": [
    "even=np.arange(30,70,2)\n",
    "print(even)"
   ]
  },
  {
   "cell_type": "code",
   "execution_count": 24,
   "id": "943894b4",
   "metadata": {},
   "outputs": [
    {
     "name": "stdout",
     "output_type": "stream",
     "text": [
      "[[1 0 0]\n",
      " [0 1 0]\n",
      " [0 0 1]]\n"
     ]
    }
   ],
   "source": [
    "i=np.identity(3,int)\n",
    "print(i)"
   ]
  },
  {
   "cell_type": "code",
   "execution_count": 38,
   "id": "0fd66707",
   "metadata": {},
   "outputs": [
    {
     "name": "stdout",
     "output_type": "stream",
     "text": [
      "[ 0  1  2  3  4  5  6  7  8  9 10 11 12 13 14 15 16 17 18 19 20]\n",
      "After change\n",
      "[  0   1   2   3   4   5   6   7   8  -9 -10 -11 -12 -13 -14 -15  16  17\n",
      "  18  19  20]\n"
     ]
    }
   ],
   "source": [
    "a=np.arange(0,21)\n",
    "print(a)\n",
    "print(\"After change\")\n",
    "a[ (a>=9) & (a<=15) ]*=-1\n",
    "print(a)\n",
    "\n",
    "# a=[-i if i>=9 and i=<15 else i for i in a ]\n",
    "# a=np.array(a)\n",
    "# print(a)"
   ]
  },
  {
   "cell_type": "code",
   "execution_count": null,
   "id": "0fbdef5e",
   "metadata": {},
   "outputs": [],
   "source": []
  }
 ],
 "metadata": {
  "kernelspec": {
   "display_name": "Python 3",
   "language": "python",
   "name": "python3"
  },
  "language_info": {
   "codemirror_mode": {
    "name": "ipython",
    "version": 3
   },
   "file_extension": ".py",
   "mimetype": "text/x-python",
   "name": "python",
   "nbconvert_exporter": "python",
   "pygments_lexer": "ipython3",
   "version": "3.8.8"
  }
 },
 "nbformat": 4,
 "nbformat_minor": 5
}
